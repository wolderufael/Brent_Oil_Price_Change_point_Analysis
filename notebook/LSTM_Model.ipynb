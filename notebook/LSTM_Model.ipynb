{
 "cells": [
  {
   "cell_type": "markdown",
   "metadata": {},
   "source": [
    "# LSTM Model"
   ]
  },
  {
   "cell_type": "markdown",
   "metadata": {},
   "source": [
    "### Add project path to system path"
   ]
  },
  {
   "cell_type": "code",
   "execution_count": 1,
   "metadata": {},
   "outputs": [],
   "source": [
    "import os\n",
    "import warnings\n",
    "warnings.filterwarnings(\"ignore\")\n",
    "notebook_dir = os.getcwd()\n",
    "parent_path=os.path.dirname(notebook_dir)\n",
    "\n",
    "os.chdir(parent_path)"
   ]
  },
  {
   "cell_type": "markdown",
   "metadata": {},
   "source": [
    "### Load data"
   ]
  },
  {
   "cell_type": "code",
   "execution_count": 4,
   "metadata": {},
   "outputs": [
    {
     "data": {
      "text/html": [
       "<div>\n",
       "<style scoped>\n",
       "    .dataframe tbody tr th:only-of-type {\n",
       "        vertical-align: middle;\n",
       "    }\n",
       "\n",
       "    .dataframe tbody tr th {\n",
       "        vertical-align: top;\n",
       "    }\n",
       "\n",
       "    .dataframe thead th {\n",
       "        text-align: right;\n",
       "    }\n",
       "</style>\n",
       "<table border=\"1\" class=\"dataframe\">\n",
       "  <thead>\n",
       "    <tr style=\"text-align: right;\">\n",
       "      <th></th>\n",
       "      <th>Price</th>\n",
       "      <th>EUR_USD_Ex_rate</th>\n",
       "      <th>Cumulative_GDP_Growth_Factor</th>\n",
       "      <th>Daily_GDP_Growth_Rate</th>\n",
       "      <th>Cumulative_Inflation_Factor</th>\n",
       "      <th>Daily_Inflation_Rate</th>\n",
       "      <th>Daily_Unemployment_Rate</th>\n",
       "      <th>Lagged_Unemployment_Rate</th>\n",
       "      <th>Rolling_Unemployment_Rate</th>\n",
       "    </tr>\n",
       "    <tr>\n",
       "      <th>Date</th>\n",
       "      <th></th>\n",
       "      <th></th>\n",
       "      <th></th>\n",
       "      <th></th>\n",
       "      <th></th>\n",
       "      <th></th>\n",
       "      <th></th>\n",
       "      <th></th>\n",
       "      <th></th>\n",
       "    </tr>\n",
       "  </thead>\n",
       "  <tbody>\n",
       "    <tr>\n",
       "      <th>1987-05-20</th>\n",
       "      <td>18.63</td>\n",
       "      <td>-0.26</td>\n",
       "      <td>1.004263</td>\n",
       "      <td>0.004263</td>\n",
       "      <td>1.005229</td>\n",
       "      <td>0.005229</td>\n",
       "      <td>4.996761</td>\n",
       "      <td>4.99634</td>\n",
       "      <td>4.996551</td>\n",
       "    </tr>\n",
       "    <tr>\n",
       "      <th>1987-05-21</th>\n",
       "      <td>18.45</td>\n",
       "      <td>-0.08</td>\n",
       "      <td>1.008545</td>\n",
       "      <td>0.004263</td>\n",
       "      <td>1.010485</td>\n",
       "      <td>0.005229</td>\n",
       "      <td>4.996761</td>\n",
       "      <td>4.99634</td>\n",
       "      <td>4.996551</td>\n",
       "    </tr>\n",
       "    <tr>\n",
       "      <th>1987-05-22</th>\n",
       "      <td>18.55</td>\n",
       "      <td>-0.34</td>\n",
       "      <td>1.012844</td>\n",
       "      <td>0.004263</td>\n",
       "      <td>1.015769</td>\n",
       "      <td>0.005229</td>\n",
       "      <td>4.996761</td>\n",
       "      <td>4.99634</td>\n",
       "      <td>4.996551</td>\n",
       "    </tr>\n",
       "    <tr>\n",
       "      <th>1987-05-25</th>\n",
       "      <td>18.60</td>\n",
       "      <td>0.02</td>\n",
       "      <td>1.025854</td>\n",
       "      <td>0.004263</td>\n",
       "      <td>1.031787</td>\n",
       "      <td>0.005229</td>\n",
       "      <td>4.996761</td>\n",
       "      <td>4.99634</td>\n",
       "      <td>4.996551</td>\n",
       "    </tr>\n",
       "    <tr>\n",
       "      <th>1987-05-26</th>\n",
       "      <td>18.63</td>\n",
       "      <td>-1.97</td>\n",
       "      <td>1.030227</td>\n",
       "      <td>0.004263</td>\n",
       "      <td>1.037182</td>\n",
       "      <td>0.005229</td>\n",
       "      <td>4.996761</td>\n",
       "      <td>4.99634</td>\n",
       "      <td>4.996551</td>\n",
       "    </tr>\n",
       "  </tbody>\n",
       "</table>\n",
       "</div>"
      ],
      "text/plain": [
       "            Price  ...  Rolling_Unemployment_Rate\n",
       "Date               ...                           \n",
       "1987-05-20  18.63  ...                   4.996551\n",
       "1987-05-21  18.45  ...                   4.996551\n",
       "1987-05-22  18.55  ...                   4.996551\n",
       "1987-05-25  18.60  ...                   4.996551\n",
       "1987-05-26  18.63  ...                   4.996551\n",
       "\n",
       "[5 rows x 9 columns]"
      ]
     },
     "execution_count": 4,
     "metadata": {},
     "output_type": "execute_result"
    }
   ],
   "source": [
    "import pandas as pd\n",
    "brent_oil_price=pd.read_csv(\"data/merged_with_macroeco_indice.csv\")\n",
    "brent_oil_price.set_index(\"Date\",inplace=True)\n",
    "brent_oil_price.head()"
   ]
  },
  {
   "cell_type": "code",
   "execution_count": 5,
   "metadata": {},
   "outputs": [
    {
     "data": {
      "text/plain": [
       "Index(['Price', 'EUR_USD_Ex_rate', 'Cumulative_GDP_Growth_Factor',\n",
       "       'Daily_GDP_Growth_Rate', 'Cumulative_Inflation_Factor',\n",
       "       'Daily_Inflation_Rate', 'Daily_Unemployment_Rate',\n",
       "       'Lagged_Unemployment_Rate', 'Rolling_Unemployment_Rate'],\n",
       "      dtype='object')"
      ]
     },
     "execution_count": 5,
     "metadata": {},
     "output_type": "execute_result"
    }
   ],
   "source": [
    "brent_oil_price.columns"
   ]
  }
 ],
 "metadata": {
  "kernelspec": {
   "display_name": ".venv",
   "language": "python",
   "name": "python3"
  },
  "language_info": {
   "codemirror_mode": {
    "name": "ipython",
    "version": 3
   },
   "file_extension": ".py",
   "mimetype": "text/x-python",
   "name": "python",
   "nbconvert_exporter": "python",
   "pygments_lexer": "ipython3",
   "version": "3.12.5"
  }
 },
 "nbformat": 4,
 "nbformat_minor": 2
}
